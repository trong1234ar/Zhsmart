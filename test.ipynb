{
 "cells": [
  {
   "cell_type": "code",
   "execution_count": 6,
   "metadata": {},
   "outputs": [],
   "source": [
    "import gspread\n",
    "from oauth2client.service_account import ServiceAccountCredentials\n",
    "\n",
    "scope = ['https://www.googleapis.com/auth/spreadsheets',\n",
    "         'https://www.googleapis.com/auth/drive']\n",
    "credentials = ServiceAccountCredentials.from_json_keyfile_name('gs_credentials.json', scope)\n",
    "client = gspread.authorize(credentials)\n",
    "\n",
    "spreadsheet = client.open_by_url(\"https://docs.google.com/spreadsheets/d/1aydEBewyGFmc9czxJPkARenzGzYkCnB6Pi8pgY3q8jY/edit?gid=0#gid=0\")\n"
   ]
  },
  {
   "cell_type": "code",
   "execution_count": 7,
   "metadata": {},
   "outputs": [
    {
     "name": "stdout",
     "output_type": "stream",
     "text": [
      "  Word     Pinyin Meaning (self)    Meaning  Level  Lecture Sentence\n",
      "0  一 斤      yijin         1/2 kg  One pound      1        1         \n",
      "1   昨天    zuotian      yesterday  yesterday      1        1         \n",
      "2  星期五  xingqi wu         friday     Friday      1        1         \n",
      "3   身体     shenti   body, health       Body      1        1         \n",
      "4   一周    yi zhou         1 week     a week      1        1         \n"
     ]
    }
   ],
   "source": [
    "import pandas as pd\n",
    "# Get the first worksheet by index\n",
    "worksheet = spreadsheet.get_worksheet(0)\n",
    "\n",
    "# Or get by name\n",
    "# worksheet = spreadsheet.worksheet(\"Sheet1\")\n",
    "# With the worksheet selected, you can now fetch all the data:\n",
    "\n",
    "# Get all records as a list of dictionaries\n",
    "records = worksheet.get_all_records()\n",
    "\n",
    "# Convert records to a DataFrame\n",
    "df = pd.DataFrame(records)\n",
    "\n",
    "# Display the DataFrame\n",
    "print(df.head())"
   ]
  },
  {
   "cell_type": "code",
   "execution_count": 8,
   "metadata": {},
   "outputs": [
    {
     "data": {
      "text/plain": [
       "(592, 7)"
      ]
     },
     "execution_count": 8,
     "metadata": {},
     "output_type": "execute_result"
    }
   ],
   "source": [
    "df.shape"
   ]
  },
  {
   "cell_type": "code",
   "execution_count": 9,
   "metadata": {},
   "outputs": [
    {
     "data": {
      "text/html": [
       "<div>\n",
       "<style scoped>\n",
       "    .dataframe tbody tr th:only-of-type {\n",
       "        vertical-align: middle;\n",
       "    }\n",
       "\n",
       "    .dataframe tbody tr th {\n",
       "        vertical-align: top;\n",
       "    }\n",
       "\n",
       "    .dataframe thead th {\n",
       "        text-align: right;\n",
       "    }\n",
       "</style>\n",
       "<table border=\"1\" class=\"dataframe\">\n",
       "  <thead>\n",
       "    <tr style=\"text-align: right;\">\n",
       "      <th></th>\n",
       "      <th>Word</th>\n",
       "      <th>Pinyin</th>\n",
       "      <th>Meaning</th>\n",
       "      <th>Level</th>\n",
       "      <th>Lecture</th>\n",
       "    </tr>\n",
       "  </thead>\n",
       "  <tbody>\n",
       "    <tr>\n",
       "      <th>0</th>\n",
       "      <td>一 斤</td>\n",
       "      <td>yijin</td>\n",
       "      <td>One pound</td>\n",
       "      <td>1</td>\n",
       "      <td>1</td>\n",
       "    </tr>\n",
       "    <tr>\n",
       "      <th>1</th>\n",
       "      <td>昨天</td>\n",
       "      <td>zuotian</td>\n",
       "      <td>yesterday</td>\n",
       "      <td>1</td>\n",
       "      <td>1</td>\n",
       "    </tr>\n",
       "    <tr>\n",
       "      <th>2</th>\n",
       "      <td>星期五</td>\n",
       "      <td>xingqi wu</td>\n",
       "      <td>Friday</td>\n",
       "      <td>1</td>\n",
       "      <td>1</td>\n",
       "    </tr>\n",
       "    <tr>\n",
       "      <th>3</th>\n",
       "      <td>身体</td>\n",
       "      <td>shenti</td>\n",
       "      <td>Body</td>\n",
       "      <td>1</td>\n",
       "      <td>1</td>\n",
       "    </tr>\n",
       "    <tr>\n",
       "      <th>4</th>\n",
       "      <td>一周</td>\n",
       "      <td>yi zhou</td>\n",
       "      <td>a week</td>\n",
       "      <td>1</td>\n",
       "      <td>1</td>\n",
       "    </tr>\n",
       "  </tbody>\n",
       "</table>\n",
       "</div>"
      ],
      "text/plain": [
       "  Word     Pinyin    Meaning  Level  Lecture\n",
       "0  一 斤      yijin  One pound      1        1\n",
       "1   昨天    zuotian  yesterday      1        1\n",
       "2  星期五  xingqi wu     Friday      1        1\n",
       "3   身体     shenti       Body      1        1\n",
       "4   一周    yi zhou     a week      1        1"
      ]
     },
     "execution_count": 9,
     "metadata": {},
     "output_type": "execute_result"
    }
   ],
   "source": [
    "df_export = df.iloc[:, [0,1,3,4,5]]\n",
    "df_export.head()"
   ]
  },
  {
   "cell_type": "code",
   "execution_count": 10,
   "metadata": {},
   "outputs": [],
   "source": [
    "df_export.to_csv('data.csv', index=False)"
   ]
  },
  {
   "cell_type": "code",
   "execution_count": 12,
   "metadata": {},
   "outputs": [
    {
     "data": {
      "text/plain": [
       "'zhī'"
      ]
     },
     "execution_count": 12,
     "metadata": {},
     "output_type": "execute_result"
    }
   ],
   "source": [
    "'zhī'"
   ]
  }
 ],
 "metadata": {
  "kernelspec": {
   "display_name": "LLMs_env",
   "language": "python",
   "name": "python3"
  },
  "language_info": {
   "codemirror_mode": {
    "name": "ipython",
    "version": 3
   },
   "file_extension": ".py",
   "mimetype": "text/x-python",
   "name": "python",
   "nbconvert_exporter": "python",
   "pygments_lexer": "ipython3",
   "version": "3.11.11"
  }
 },
 "nbformat": 4,
 "nbformat_minor": 2
}
